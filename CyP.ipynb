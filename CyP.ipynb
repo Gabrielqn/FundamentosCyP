{
  "nbformat": 4,
  "nbformat_minor": 0,
  "metadata": {
    "colab": {
      "name": "CyP.ipynb",
      "provenance": [],
      "authorship_tag": "ABX9TyMkTjq1zolP79U/dvv2V2X+",
      "include_colab_link": true
    },
    "kernelspec": {
      "name": "python3",
      "display_name": "Python 3"
    },
    "language_info": {
      "name": "python"
    }
  },
  "cells": [
    {
      "cell_type": "markdown",
      "metadata": {
        "id": "view-in-github",
        "colab_type": "text"
      },
      "source": [
        "<a href=\"https://colab.research.google.com/github/Gabrielqn/FundamentosCyP/blob/main/CyP.ipynb\" target=\"_parent\"><img src=\"https://colab.research.google.com/assets/colab-badge.svg\" alt=\"Open In Colab\"/></a>"
      ]
    },
    {
      "cell_type": "markdown",
      "metadata": {
        "id": "9nEtipgHv9Ow"
      },
      "source": [
        "#Tuplas\n",
        "###Caracteristicas de las tumplas\n",
        "- Datos agrupados\n",
        "- Se declara usando\n",
        "  - ( )\n",
        "  - tupla( )\n",
        "- Pueden tenr de 0 a n elementos\n",
        "- NO son mutables (no se puede eliminar y/o cambia)\n",
        "- Son buenas para almacenar informacion de consulta\n",
        "- Pueden almacenar informacion de diferentes tipos de datos\n",
        "- Pueden estar anidadas \n",
        "- Tienen metodos utiles"
      ]
    },
    {
      "cell_type": "code",
      "metadata": {
        "colab": {
          "base_uri": "https://localhost:8080/"
        },
        "id": "GFjyiFmRvTEs",
        "outputId": "d055ace5-2b8b-4faf-8c6a-faacb139aad5"
      },
      "source": [
        "info=(\"juan 23\", \"dios1234\", \"123.232.1.12\")\n",
        "print(info)\n",
        "print(info[1])\n",
        "\n",
        "numeros=(1,2,3,4,5,6,7,8,9)\n",
        "print(numeros)\n",
        "\n",
        "cosas=(info, numeros)\n",
        "print(cosas)\n",
        "print(cosas[1][5:11:1])\n",
        "print(cosas[0][2][4:7])"
      ],
      "execution_count": null,
      "outputs": [
        {
          "output_type": "stream",
          "name": "stdout",
          "text": [
            "('juan 23', 'dios1234', '123.232.1.12')\n",
            "dios1234\n",
            "(1, 2, 3, 4, 5, 6, 7, 8, 9)\n",
            "(('juan 23', 'dios1234', '123.232.1.12'), (1, 2, 3, 4, 5, 6, 7, 8, 9))\n",
            "(6, 7, 8, 9)\n",
            "232\n"
          ]
        }
      ]
    },
    {
      "cell_type": "markdown",
      "metadata": {
        "id": "6gGMqpku0lTe"
      },
      "source": [
        "#Metodos de las tumplas\n",
        "Son los mismos de las listas pero los que no involucren mutabilidad."
      ]
    },
    {
      "cell_type": "markdown",
      "metadata": {
        "id": "lJ6_lHeT2vlY"
      },
      "source": [
        "#Diccionarios\n",
        "###Caracteristicas\n",
        "\n",
        "- Agrupan datos pero de forma no lineal\n",
        "- Se declaran con: \n",
        "  - {}\n",
        "  - dict()  \n",
        "- Formado por pares de tipo llave: valor, donde: \n",
        "  - llave es tipo string (siempre)\n",
        "  -el valor puede ser de cualquier tipo de datos, incluyendo diccionario\n",
        "- Se seleccionan con la llave de la forma: [\"id>_llave¨]\n",
        "- Son mutables\n",
        "- Son equivalentes al tipo de dato JSON del lenguaje JavaScript\n"
      ]
    },
    {
      "cell_type": "code",
      "metadata": {
        "colab": {
          "base_uri": "https://localhost:8080/"
        },
        "id": "pEtgXs1R0k5z",
        "outputId": "ab6ed7b4-7c46-4dd8-f26e-2915b3df8251"
      },
      "source": [
        "alumno={\"nombre\": \"Jose\"}\n",
        "print(alumno)\n",
        "print(alumno[\"nombre\"])\n",
        "alumno={\"nombre\":\"Jose\", \"nc\":\"2129229292\", \"edad\":18}\n",
        "print(\"Edad del alumno =\",alumno[\"edad\"])\n",
        "print(alumno[\"nombre\"].upper())\n",
        "\n",
        "alumno2=dict()\n",
        "alumno2[\"nombre\"]=\"Jose\"\n",
        "print(alumno2)\n",
        "alumno2[\"nc\"]=\"2129229292\"\n",
        "alumno2[\"edad\"]=18\n",
        "print(alumno2)"
      ],
      "execution_count": null,
      "outputs": [
        {
          "output_type": "stream",
          "name": "stdout",
          "text": [
            "{'nombre': 'Jose'}\n",
            "Jose\n",
            "Edad del alumno = 18\n",
            "JOSE\n",
            "{'nombre': 'Jose'}\n",
            "{'nombre': 'Jose', 'nc': '2129229292', 'edad': 18}\n"
          ]
        }
      ]
    },
    {
      "cell_type": "code",
      "metadata": {
        "colab": {
          "base_uri": "https://localhost:8080/"
        },
        "id": "SAeQyS4_8RkB",
        "outputId": "4b2c9033-c61e-4b66-9d7a-e791e9b1e9d8"
      },
      "source": [
        "cliente={\"id\":\"CT2121\",\n",
        "         \"nombre\": \"Jose Pedroza Rosales\",\n",
        "         \"telefono\":\"casa=5543453 cel=04455547472\"}\n",
        "print(cliente) \n",
        "\n",
        "cliente={\"id\":\"CT2121\",\n",
        "         \"nombre\": {\n",
        "             \"nombres\":[\"Jose\", \"Eduardo\"],\n",
        "             \"paterno\":\"Pedraza\",\n",
        "             \"materno\":\"Rosales\"\n",
        "         },\n",
        "         \"telefonos\":{\n",
        "             \"casa\":\"5556757853\",\n",
        "             \"trabajo\":\"559374630\",\n",
        "             \"celular\":\"5583847932\"\n",
        "         }, \n",
        "         \"productos\":{\n",
        "             \"ahorro\":{\"numero_cuenta\":\"7788\", \"ahorro\":2500.50},\n",
        "             \"tarjetas\":[\n",
        "                         {\"tipo\":\"debito\",\"saldo\": 10000.50},\n",
        "                         {\"tipo\":\"credito preferente\", \"limite\":250000.5},\n",
        "                         {\"tipo\":\"lite\",\"limite\":15000.5}\n",
        "             ]\n",
        "              \n",
        "         },\n",
        "         \"direccion\":{\n",
        "             \"calle\":\"Av.central\",\n",
        "             \"numero\": 1245,\n",
        "             \"colonia\":\"impulsora\",\n",
        "             \"delegacion\":\"neza\",\n",
        "             \"estado\":{\n",
        "                 \"clave\":15,\n",
        "                 \"nombre_corto\":\"edo mex\",\n",
        "                 \"nombre\":\"estado de mexico\"\n",
        "             }\n",
        "         }\n",
        "         }    \n",
        "\n",
        "print(cliente[\"telefonos\"][\"casa\"])\n",
        "print(cliente)\n",
        "print(cliente[\"productos\"][\"ahorro\"][\"ahorro\"])\n",
        "print(cliente[\"productos\"][\"tarjetas\"][2] [\"limite\"])\n",
        "print(cliente[\"direccion\"][\"estado\"][\"nombre\"].upper())\n",
        "cliente[\"productos\"][\"ahorro\"][\"ahorro\"]-=1500.0\n",
        "print(cliente[\"productos\"])"
      ],
      "execution_count": 5,
      "outputs": [
        {
          "output_type": "stream",
          "name": "stdout",
          "text": [
            "{'id': 'CT2121', 'nombre': 'Jose Pedroza Rosales', 'telefono': 'casa=5543453 cel=04455547472'}\n",
            "5556757853\n",
            "{'id': 'CT2121', 'nombre': {'nombres': ['Jose', 'Eduardo'], 'paterno': 'Pedraza', 'materno': 'Rosales'}, 'telefonos': {'casa': '5556757853', 'trabajo': '559374630', 'celular': '5583847932'}, 'productos': {'ahorro': {'numero_cuenta': '7788', 'ahorro': 2500.5}, 'tarjetas': [{'tipo': 'debito', 'saldo': 10000.5}, {'tipo': 'credito preferente', 'limite': 250000.5}, {'tipo': 'lite', 'limite': 15000.5}]}, 'direccion': {'calle': 'Av.central', 'numero': 1245, 'colonia': 'impulsora', 'delegacion': 'neza', 'estado': {'clave': 15, 'nombre_corto': 'edo mex', 'nombre': 'estado de mexico'}}}\n",
            "2500.5\n",
            "15000.5\n",
            "ESTADO DE MEXICO\n",
            "{'ahorro': {'numero_cuenta': '7788', 'ahorro': 1000.5}, 'tarjetas': [{'tipo': 'debito', 'saldo': 10000.5}, {'tipo': 'credito preferente', 'limite': 250000.5}, {'tipo': 'lite', 'limite': 15000.5}]}\n"
          ]
        }
      ]
    },
    {
      "cell_type": "markdown",
      "metadata": {
        "id": "7f9h86zJD7_C"
      },
      "source": [
        ""
      ]
    },
    {
      "cell_type": "code",
      "metadata": {
        "id": "hMdheBNrKAtA"
      },
      "source": [
        "peliculas={\"genero\":{\"terror\":[\"La llorona\",\"Conjuro\",\"Masacre\"], \n",
        "                     \"accion\":[\"Terremoto\",\"Viaje 2\"],\n",
        "                     \"novela\":[\"Frida\",\"She\"],\n",
        "                     \"suspenso\":[\"Vecino\",\"La noche fria\"] \n",
        "    } \n",
        "}"
      ],
      "execution_count": 14,
      "outputs": []
    },
    {
      "cell_type": "markdown",
      "metadata": {
        "id": "fMlfueiYM_QB"
      },
      "source": [
        "#Estructuras de control de programacion \n",
        "Se puede crear cualquir tipo de algoritmo empleado solamente 3 estructuras de control:\n",
        "1. Secuancia:\n",
        "  - La representacion de la memoria de programa(arquitectura von newman)\n",
        "2. Seleccion\n",
        "  - Es la estructua de control que decide si un bloque de programa se ejecuta o no. Tambien permite seleccionar ejecutar un bloque entre un conjunto de opciones.\n",
        "    Tenemos seleccion: simple, con bifucacion y seleccion multiple\n",
        "3. Repeticion\n",
        "  - Este tipo de estructura nos permite automatizar la ejecucion repetitiva de codigo mientras ciertas condiciones se cumplan, tenemos 3 variantes de esta estructura en todos los lenjuages de programacion:\n",
        "    - Desde...hasta (estructura for)\n",
        "    - haz mientras (estructura while)\n",
        "    - haz y luego validaz mientras (estructura do-while)"
      ]
    },
    {
      "cell_type": "markdown",
      "metadata": {
        "id": "w_fFT2TGSARX"
      },
      "source": [
        "# Seleccion simple\n",
        "-- documentar, poner notas\n",
        "\n",
        "Estructura if\n",
        "   if <condicion>: \n",
        "      <cuerpo del if>\n",
        "\n",
        "**Para establecer el cuerpo de una estructura de contrl en pythom se usan los tabuladores a la izq.**\n",
        "\n",
        "En otros lenjuages se usan las llaves {}"
      ]
    },
    {
      "cell_type": "code",
      "metadata": {
        "colab": {
          "base_uri": "https://localhost:8080/"
        },
        "id": "TEkFHWrcSJi5",
        "outputId": "a29d3f5e-14cf-4cbb-d6b9-479bb034601c"
      },
      "source": [
        "edad=int(input(\"Tu edad\")) \n",
        "print(f\"tecleaste {edad} años\")\n",
        "if edad>=18:\n",
        "    print(\"Eres mayor de edad\")\n",
        "if edad<=17:\n",
        "    print(\"Bye\")\n",
        "print(\"Fin del programa\")"
      ],
      "execution_count": 20,
      "outputs": [
        {
          "output_type": "stream",
          "name": "stdout",
          "text": [
            "Tu edad18\n",
            "tecleaste 18 años\n",
            "Eres mayor de edad\n",
            "Fin del programa\n"
          ]
        }
      ]
    },
    {
      "cell_type": "code",
      "metadata": {
        "colab": {
          "base_uri": "https://localhost:8080/"
        },
        "id": "74ZltjXTWapm",
        "outputId": "457baddc-9ee1-4c58-8e3e-bd87575c7559"
      },
      "source": [
        "CAL=int(input(\"Tu calificacion \"))\n",
        "if CAL>8:\n",
        "    print(\"Aprobado\")\n",
        "print(\"Fin del programa\")"
      ],
      "execution_count": 22,
      "outputs": [
        {
          "output_type": "stream",
          "name": "stdout",
          "text": [
            "Tu calificacion 8\n",
            "Fin del programa\n"
          ]
        }
      ]
    },
    {
      "cell_type": "code",
      "metadata": {
        "colab": {
          "base_uri": "https://localhost:8080/"
        },
        "id": "ynFewnRJXnVQ",
        "outputId": "abc1827f-e95e-4799-9cc8-8bbb09f2b597"
      },
      "source": [
        "SUE=float(input(\"Tu sueldo es \"))\n",
        "AUM=0\n",
        "MSUE=0\n",
        "\n",
        "if SUE<1000:\n",
        "  AUM=SUE*0.15\n",
        "  MSUE=SUE+AUM\n",
        "  print(MSUE)\n",
        "\n"
      ],
      "execution_count": 29,
      "outputs": [
        {
          "output_type": "stream",
          "name": "stdout",
          "text": [
            "Tu sueldo es 875.50\n",
            "1006.825\n"
          ]
        }
      ]
    }
  ]
}