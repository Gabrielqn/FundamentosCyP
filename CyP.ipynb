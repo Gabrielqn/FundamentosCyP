{
  "nbformat": 4,
  "nbformat_minor": 0,
  "metadata": {
    "colab": {
      "name": "CyP.ipynb",
      "provenance": [],
      "authorship_tag": "ABX9TyO1rlAP9e3+nEXsRYD0gK37",
      "include_colab_link": true
    },
    "kernelspec": {
      "name": "python3",
      "display_name": "Python 3"
    },
    "language_info": {
      "name": "python"
    }
  },
  "cells": [
    {
      "cell_type": "markdown",
      "metadata": {
        "id": "view-in-github",
        "colab_type": "text"
      },
      "source": [
        "<a href=\"https://colab.research.google.com/github/Gabrielqn/FundamentosCyP/blob/main/CyP.ipynb\" target=\"_parent\"><img src=\"https://colab.research.google.com/assets/colab-badge.svg\" alt=\"Open In Colab\"/></a>"
      ]
    },
    {
      "cell_type": "markdown",
      "metadata": {
        "id": "9nEtipgHv9Ow"
      },
      "source": [
        "#Tuplas\n",
        "###Caracteristicas de las tumplas\n",
        "- Datos agrupados\n",
        "- Se declara usando\n",
        "  - ( )\n",
        "  - tupla( )\n",
        "- Pueden tenr de 0 a n elementos\n",
        "- NO son mutables (no se puede eliminar y/o cambia)\n",
        "- Son buenas para almacenar informacion de consulta\n",
        "- Pueden almacenar informacion de diferentes tipos de datos\n",
        "- Pueden estar anidadas \n",
        "- Tienen metodos utiles"
      ]
    },
    {
      "cell_type": "code",
      "metadata": {
        "colab": {
          "base_uri": "https://localhost:8080/"
        },
        "id": "GFjyiFmRvTEs",
        "outputId": "d055ace5-2b8b-4faf-8c6a-faacb139aad5"
      },
      "source": [
        "info=(\"juan 23\", \"dios1234\", \"123.232.1.12\")\n",
        "print(info)\n",
        "print(info[1])\n",
        "\n",
        "numeros=(1,2,3,4,5,6,7,8,9)\n",
        "print(numeros)\n",
        "\n",
        "cosas=(info, numeros)\n",
        "print(cosas)\n",
        "print(cosas[1][5:11:1])\n",
        "print(cosas[0][2][4:7])"
      ],
      "execution_count": null,
      "outputs": [
        {
          "output_type": "stream",
          "name": "stdout",
          "text": [
            "('juan 23', 'dios1234', '123.232.1.12')\n",
            "dios1234\n",
            "(1, 2, 3, 4, 5, 6, 7, 8, 9)\n",
            "(('juan 23', 'dios1234', '123.232.1.12'), (1, 2, 3, 4, 5, 6, 7, 8, 9))\n",
            "(6, 7, 8, 9)\n",
            "232\n"
          ]
        }
      ]
    },
    {
      "cell_type": "markdown",
      "metadata": {
        "id": "6gGMqpku0lTe"
      },
      "source": [
        "#Metodos de las tumplas\n",
        "Son los mismos de las listas pero los que no involucren mutabilidad."
      ]
    },
    {
      "cell_type": "markdown",
      "metadata": {
        "id": "lJ6_lHeT2vlY"
      },
      "source": [
        "#Diccionarios\n",
        "###Caracteristicas\n",
        "\n",
        "- Agrupan datos pero de forma no lineal\n",
        "- Se declaran con: \n",
        "  - {}\n",
        "  - dict()  \n",
        "- Formado por pares de tipo llave: valor, donde: \n",
        "  - llave es tipo string (siempre)\n",
        "  -el valor puede ser de cualquier tipo de datos, incluyendo diccionario\n",
        "- Se seleccionan con la llave de la forma: [\"id>_llave¨]\n",
        "- Son mutables\n",
        "- Son equivalentes al tipo de dato JSON del lenguaje JavaScript\n"
      ]
    },
    {
      "cell_type": "code",
      "metadata": {
        "colab": {
          "base_uri": "https://localhost:8080/"
        },
        "id": "pEtgXs1R0k5z",
        "outputId": "ab6ed7b4-7c46-4dd8-f26e-2915b3df8251"
      },
      "source": [
        "alumno={\"nombre\": \"Jose\"}\n",
        "print(alumno)\n",
        "print(alumno[\"nombre\"])\n",
        "alumno={\"nombre\":\"Jose\", \"nc\":\"2129229292\", \"edad\":18}\n",
        "print(\"Edad del alumno =\",alumno[\"edad\"])\n",
        "print(alumno[\"nombre\"].upper())\n",
        "\n",
        "alumno2=dict()\n",
        "alumno2[\"nombre\"]=\"Jose\"\n",
        "print(alumno2)\n",
        "alumno2[\"nc\"]=\"2129229292\"\n",
        "alumno2[\"edad\"]=18\n",
        "print(alumno2)"
      ],
      "execution_count": null,
      "outputs": [
        {
          "output_type": "stream",
          "name": "stdout",
          "text": [
            "{'nombre': 'Jose'}\n",
            "Jose\n",
            "Edad del alumno = 18\n",
            "JOSE\n",
            "{'nombre': 'Jose'}\n",
            "{'nombre': 'Jose', 'nc': '2129229292', 'edad': 18}\n"
          ]
        }
      ]
    },
    {
      "cell_type": "code",
      "metadata": {
        "colab": {
          "base_uri": "https://localhost:8080/"
        },
        "id": "SAeQyS4_8RkB",
        "outputId": "4b2c9033-c61e-4b66-9d7a-e791e9b1e9d8"
      },
      "source": [
        "cliente={\"id\":\"CT2121\",\n",
        "         \"nombre\": \"Jose Pedroza Rosales\",\n",
        "         \"telefono\":\"casa=5543453 cel=04455547472\"}\n",
        "print(cliente) \n",
        "\n",
        "cliente={\"id\":\"CT2121\",\n",
        "         \"nombre\": {\n",
        "             \"nombres\":[\"Jose\", \"Eduardo\"],\n",
        "             \"paterno\":\"Pedraza\",\n",
        "             \"materno\":\"Rosales\"\n",
        "         },\n",
        "         \"telefonos\":{\n",
        "             \"casa\":\"5556757853\",\n",
        "             \"trabajo\":\"559374630\",\n",
        "             \"celular\":\"5583847932\"\n",
        "         }, \n",
        "         \"productos\":{\n",
        "             \"ahorro\":{\"numero_cuenta\":\"7788\", \"ahorro\":2500.50},\n",
        "             \"tarjetas\":[\n",
        "                         {\"tipo\":\"debito\",\"saldo\": 10000.50},\n",
        "                         {\"tipo\":\"credito preferente\", \"limite\":250000.5},\n",
        "                         {\"tipo\":\"lite\",\"limite\":15000.5}\n",
        "             ]\n",
        "              \n",
        "         },\n",
        "         \"direccion\":{\n",
        "             \"calle\":\"Av.central\",\n",
        "             \"numero\": 1245,\n",
        "             \"colonia\":\"impulsora\",\n",
        "             \"delegacion\":\"neza\",\n",
        "             \"estado\":{\n",
        "                 \"clave\":15,\n",
        "                 \"nombre_corto\":\"edo mex\",\n",
        "                 \"nombre\":\"estado de mexico\"\n",
        "             }\n",
        "         }\n",
        "         }    \n",
        "\n",
        "print(cliente[\"telefonos\"][\"casa\"])\n",
        "print(cliente)\n",
        "print(cliente[\"productos\"][\"ahorro\"][\"ahorro\"])\n",
        "print(cliente[\"productos\"][\"tarjetas\"][2] [\"limite\"])\n",
        "print(cliente[\"direccion\"][\"estado\"][\"nombre\"].upper())\n",
        "cliente[\"productos\"][\"ahorro\"][\"ahorro\"]-=1500.0\n",
        "print(cliente[\"productos\"])"
      ],
      "execution_count": null,
      "outputs": [
        {
          "output_type": "stream",
          "name": "stdout",
          "text": [
            "{'id': 'CT2121', 'nombre': 'Jose Pedroza Rosales', 'telefono': 'casa=5543453 cel=04455547472'}\n",
            "5556757853\n",
            "{'id': 'CT2121', 'nombre': {'nombres': ['Jose', 'Eduardo'], 'paterno': 'Pedraza', 'materno': 'Rosales'}, 'telefonos': {'casa': '5556757853', 'trabajo': '559374630', 'celular': '5583847932'}, 'productos': {'ahorro': {'numero_cuenta': '7788', 'ahorro': 2500.5}, 'tarjetas': [{'tipo': 'debito', 'saldo': 10000.5}, {'tipo': 'credito preferente', 'limite': 250000.5}, {'tipo': 'lite', 'limite': 15000.5}]}, 'direccion': {'calle': 'Av.central', 'numero': 1245, 'colonia': 'impulsora', 'delegacion': 'neza', 'estado': {'clave': 15, 'nombre_corto': 'edo mex', 'nombre': 'estado de mexico'}}}\n",
            "2500.5\n",
            "15000.5\n",
            "ESTADO DE MEXICO\n",
            "{'ahorro': {'numero_cuenta': '7788', 'ahorro': 1000.5}, 'tarjetas': [{'tipo': 'debito', 'saldo': 10000.5}, {'tipo': 'credito preferente', 'limite': 250000.5}, {'tipo': 'lite', 'limite': 15000.5}]}\n"
          ]
        }
      ]
    },
    {
      "cell_type": "markdown",
      "metadata": {
        "id": "7f9h86zJD7_C"
      },
      "source": [
        ""
      ]
    },
    {
      "cell_type": "code",
      "metadata": {
        "id": "hMdheBNrKAtA"
      },
      "source": [
        "peliculas={\"genero\":{\"terror\":[\"La llorona\",\"Conjuro\",\"Masacre\"], \n",
        "                     \"accion\":[\"Terremoto\",\"Viaje 2\"],\n",
        "                     \"novela\":[\"Frida\",\"She\"],\n",
        "                     \"suspenso\":[\"Vecino\",\"La noche fria\"] \n",
        "    } \n",
        "}"
      ],
      "execution_count": null,
      "outputs": []
    },
    {
      "cell_type": "markdown",
      "metadata": {
        "id": "fMlfueiYM_QB"
      },
      "source": [
        "#Estructuras de control de programacion \n",
        "Se puede crear cualquir tipo de algoritmo empleado solamente 3 estructuras de control:\n",
        "1. Secuancia:\n",
        "  - La representacion de la memoria de programa(arquitectura von newman)\n",
        "2. Seleccion\n",
        "  - Es la estructua de control que decide si un bloque de programa se ejecuta o no. Tambien permite seleccionar ejecutar un bloque entre un conjunto de opciones.\n",
        "    Tenemos seleccion: simple, con bifucacion y seleccion multiple\n",
        "3. Repeticion\n",
        "  - Este tipo de estructura nos permite automatizar la ejecucion repetitiva de codigo mientras ciertas condiciones se cumplan, tenemos 3 variantes de esta estructura en todos los lenjuages de programacion:\n",
        "    - Desde...hasta (estructura for)\n",
        "    - haz mientras (estructura while)\n",
        "    - haz y luego validaz mientras (estructura do-while)"
      ]
    },
    {
      "cell_type": "markdown",
      "metadata": {
        "id": "w_fFT2TGSARX"
      },
      "source": [
        "# Seleccion simple\n",
        "-- documentar, poner notas\n",
        "\n",
        "Estructura if\n",
        "   if <condicion>: \n",
        "      <cuerpo del if>\n",
        "\n",
        "**Para establecer el cuerpo de una estructura de contrl en pythom se usan los tabuladores a la izq.**\n",
        "\n",
        "En otros lenjuages se usan las llaves {}"
      ]
    },
    {
      "cell_type": "code",
      "metadata": {
        "colab": {
          "base_uri": "https://localhost:8080/"
        },
        "id": "TEkFHWrcSJi5",
        "outputId": "a29d3f5e-14cf-4cbb-d6b9-479bb034601c"
      },
      "source": [
        "edad=int(input(\"Tu edad\")) \n",
        "print(f\"tecleaste {edad} años\")\n",
        "if edad>=18:\n",
        "    print(\"Eres mayor de edad\")\n",
        "if edad<=17:\n",
        "    print(\"Bye\")\n",
        "print(\"Fin del programa\")"
      ],
      "execution_count": null,
      "outputs": [
        {
          "output_type": "stream",
          "name": "stdout",
          "text": [
            "Tu edad18\n",
            "tecleaste 18 años\n",
            "Eres mayor de edad\n",
            "Fin del programa\n"
          ]
        }
      ]
    },
    {
      "cell_type": "code",
      "metadata": {
        "colab": {
          "base_uri": "https://localhost:8080/"
        },
        "id": "74ZltjXTWapm",
        "outputId": "457baddc-9ee1-4c58-8e3e-bd87575c7559"
      },
      "source": [
        "CAL=int(input(\"Tu calificacion \"))\n",
        "if CAL>8:\n",
        "    print(\"Aprobado\")\n",
        "print(\"Fin del programa\")"
      ],
      "execution_count": null,
      "outputs": [
        {
          "output_type": "stream",
          "name": "stdout",
          "text": [
            "Tu calificacion 8\n",
            "Fin del programa\n"
          ]
        }
      ]
    },
    {
      "cell_type": "code",
      "metadata": {
        "colab": {
          "base_uri": "https://localhost:8080/"
        },
        "id": "ynFewnRJXnVQ",
        "outputId": "abc1827f-e95e-4799-9cc8-8bbb09f2b597"
      },
      "source": [
        "SUE=float(input(\"Tu sueldo es \"))\n",
        "AUM=0\n",
        "MSUE=0\n",
        "\n",
        "if SUE<1000:\n",
        "  AUM=SUE*0.15\n",
        "  MSUE=SUE+AUM\n",
        "  print(MSUE)\n",
        "\n"
      ],
      "execution_count": null,
      "outputs": [
        {
          "output_type": "stream",
          "name": "stdout",
          "text": [
            "Tu sueldo es 875.50\n",
            "1006.825\n"
          ]
        }
      ]
    },
    {
      "cell_type": "markdown",
      "metadata": {
        "id": "SMRiEwPoGka0"
      },
      "source": [
        "# Estructura de seleccion con bifurcacion (if-else)\n",
        "Esta estructura selecciona una de dos opciones de ejecucion, se ejecuta un bloque si la consicion se cumple o se ejecuta otro bloque si la condicion no se cumple (eelse).\n",
        "\n",
        "```\n",
        "if<condicion>:\n",
        "  <bloque de ejecucion>\n",
        "else:\n",
        "  <bloque de ejecucion altern>\n",
        "\n",
        "```"
      ]
    },
    {
      "cell_type": "code",
      "metadata": {
        "colab": {
          "base_uri": "https://localhost:8080/"
        },
        "id": "e8Nc1xqQHlWR",
        "outputId": "ee107db5-d6a1-4733-9d4c-324e5092d892"
      },
      "source": [
        "edad=int(input(\"Tu edad: \"))\n",
        "print(f\"Tecleaste {edad} años\")\n",
        "if edad >=18:\n",
        "    print(\"Eres mayor de edad, ten tu cheve\")\n",
        "else:\n",
        "    print(\"Eres menor de edad, ten tu boig\")\n",
        "print(\"Fin del programa\")"
      ],
      "execution_count": null,
      "outputs": [
        {
          "output_type": "stream",
          "name": "stdout",
          "text": [
            "Tu edad: 22\n",
            "Tecleaste 22 años\n",
            "Eres mayr de edad, ten tu cheve\n",
            "Fin del programa\n"
          ]
        }
      ]
    },
    {
      "cell_type": "code",
      "metadata": {
        "colab": {
          "base_uri": "https://localhost:8080/"
        },
        "id": "i7oAEtbcJMBR",
        "outputId": "2225c879-c895-497e-b10b-61853b787065"
      },
      "source": [
        "edad=int(input(\"Tu edad: \"))\n",
        "dinero=int(input(\"Cuanto dinero tienes: \"))\n",
        "print(f\"Tecleaste {edad} años\")\n",
        "if edad >=18: \n",
        "    print(\"Eres mayor de edad\")\n",
        "    if dinero >=36:\n",
        "        print(\"Ten tu cheve\")  \n",
        "    else:\n",
        "        print(\"No tienes suficiente dinero\")\n",
        "else:\n",
        "    print(\"Eres menor de edad\")\n",
        "print(\"Fin del programa\")"
      ],
      "execution_count": null,
      "outputs": [
        {
          "output_type": "stream",
          "name": "stdout",
          "text": [
            "Tu edad: 18\n",
            "Cuanto dinero tienes: 40\n",
            "Tecleaste 18 años\n",
            "Eres mayor de edad\n",
            "Ten tu cheve\n",
            "Fin del programa\n"
          ]
        }
      ]
    },
    {
      "cell_type": "markdown",
      "metadata": {
        "id": "0k6AD9tLM2RI"
      },
      "source": [
        "El codigo anterior se puede"
      ]
    },
    {
      "cell_type": "code",
      "metadata": {
        "colab": {
          "base_uri": "https://localhost:8080/"
        },
        "id": "lMMYSDX1NTRk",
        "outputId": "865f826f-3d1f-400a-d448-521e6f2fb713"
      },
      "source": [
        "edad = int(input(\"Dame tu edad: \"))\n",
        "dinero = float(input(\"Cuanto dinero tienes: \"))\n",
        "print(f\"Tecleaste {edad} años\")\n",
        "print(f\"Tecleaste {dinero} dinero\")\n",
        "if edad >= 18 :\n",
        "    if dinero >=36 :\n",
        "        print(\"Ten tu cheve\")\n",
        "    else:\n",
        "        print(\"tienes la edad pero no tienes dinero suficiente\")\n",
        "elif dinero >= 36 :\n",
        "    print(\"Tienes dinero suficiente pero no tienes la edad\")\n",
        "else:\n",
        "    print(\"No tienes la edad ni el dinero, ve a jugar roblox a tu casa\")"
      ],
      "execution_count": null,
      "outputs": [
        {
          "output_type": "stream",
          "name": "stdout",
          "text": [
            "Dame tu edad: 10\n",
            "Cuanto dinero tienes: 10\n",
            "Tecleaste 10 años\n",
            "Tecleaste 10.0 dinero\n",
            "No tienes la edad ni el dinero, ve a jugar roblox a tu casa\n"
          ]
        }
      ]
    },
    {
      "cell_type": "code",
      "metadata": {
        "colab": {
          "base_uri": "https://localhost:8080/"
        },
        "id": "NmC6842tPhYY",
        "outputId": "a0bf0fa7-9a57-499b-8967-28e4d41c6fb5"
      },
      "source": [
        "# ejemplo 2.4\n",
        "SUE = float(input(\"Escribe el sueldo: \"))\n",
        "AUM = 0 \n",
        "NSUE = 0\n",
        "\n",
        "if SUE < 1000 :\n",
        "    AUM = SUE* 0.15\n",
        "    NSUE = SUE + AUM\n",
        "    print(NSUE)\n",
        "else:\n",
        "    AUM= SUE*0.12\n",
        "    NSUE = SUE + AUM\n",
        "    print(NSUE)"
      ],
      "execution_count": null,
      "outputs": [
        {
          "output_type": "stream",
          "name": "stdout",
          "text": [
            "Escribe el sueldo: 1000\n",
            "1120.0\n"
          ]
        }
      ]
    },
    {
      "cell_type": "markdown",
      "metadata": {
        "id": "8gxbaW4SSKIo"
      },
      "source": [
        "#ejecicio if-else\n",
        "### Hacer un programa que solicite el dia de la semana en un valor numerico entero del 1 al 7 (Avisarle al usuario si proporciono un valor fuera del rango)\n",
        "\n",
        "### Posteriormente imprimira el dia de la semana correspondiente al numero capturado \n",
        "1. lunes\n",
        "2. martes...\n",
        "\n"
      ]
    },
    {
      "cell_type": "code",
      "metadata": {
        "colab": {
          "base_uri": "https://localhost:8080/"
        },
        "id": "LfGlP4G7TAPC",
        "outputId": "be173a77-e568-472c-d796-4061a3fd24a3"
      },
      "source": [
        "dia=int(input(\"Dame un día de la semana del 1-7: \"))\n",
        "if dia is 1:\n",
        "    print(\"Lunes\")\n",
        "elif dia is 2:\n",
        "    print(\"Martes\")\n",
        "elif dia is 3:\n",
        "    print(\"Miercoles\")\n",
        "elif dia is 4:\n",
        "    print(\"Jueves\")\n",
        "elif dia is 5:\n",
        "    print(\"Viernes\")\n",
        "elif dia is 6:\n",
        "    print(\"Sabado\")\n",
        "elif dia is 7:\n",
        "    print(\"Domingo\")\n",
        "else:\n",
        "    print(\"Valor fuera de rango, debe ser un numero entre 1 y 7\")"
      ],
      "execution_count": null,
      "outputs": [
        {
          "output_type": "stream",
          "name": "stdout",
          "text": [
            "Dame un día de la semana del 1-7: 4\n",
            "Jueves\n"
          ]
        }
      ]
    },
    {
      "cell_type": "code",
      "metadata": {
        "colab": {
          "base_uri": "https://localhost:8080/"
        },
        "id": "_QgUruU-Uo-i",
        "outputId": "28987da9-915a-422b-a828-1af9b7ba6e71"
      },
      "source": [
        "dia=int(input(\"Ingresa un numero entre 1 y 7: \"))\n",
        "print(f\"Capturaste el numero {dia}\")\n",
        "if dia >=1 and dia<=7:\n",
        "    if dia==1:\n",
        "        print(\"Lunes\")  \n",
        "    else:\n",
        "        if dia==2:\n",
        "            print(\"Martes\")   \n",
        "        else:\n",
        "            if dia==3:\n",
        "                print(\"Miecoles\")      \n",
        "            else:\n",
        "                if dia==4:\n",
        "                    print(\"Jueves\")   \n",
        "                else:\n",
        "                    if dia==5:\n",
        "                        print(\"Viernes\")\n",
        "                    else:\n",
        "                        if dia==6:\n",
        "                            print(\"Sabado\")   \n",
        "                        else:\n",
        "                            print(\"Domingo\")\n",
        "else:\n",
        "  print(\"El numero no esta dentro del rango solicitado\")"
      ],
      "execution_count": null,
      "outputs": [
        {
          "output_type": "stream",
          "name": "stdout",
          "text": [
            "Ingresa un numero entre 1 y 7: 8\n",
            "Capturaste el numero 8\n",
            "El numero no esta dentro del rango solicitado\n"
          ]
        }
      ]
    },
    {
      "cell_type": "markdown",
      "metadata": {
        "id": "JjM8sUgWZjIX"
      },
      "source": [
        "#Hacer un programa que pida dos numeros enteros y que imprima en pantalla\n",
        "1. cual de ellos es el numero mayor\n",
        "2. cual de ellos es el numero menor\n",
        " o en su defecto \n",
        "imprimir que los valores son iguales\n",
        "\n",
        "```Hacer un programa que solicite tres numeros diferentes entre si y que imprima cual de los tres es el mayor\n",
        "````\n",
        "```Hacer un programa que solicite tres numeros diferentes entre si y que imprima cual de los tres es el menor\n",
        "````\n",
        "```Hacer un programa que solicite cuatro numeros enteros diferentes entre si y que imprima cual de ellos es el menor y cual es el mayor\n",
        "````\n",
        "\n",
        "\n",
        "\n",
        "\n",
        "\n"
      ]
    },
    {
      "cell_type": "markdown",
      "metadata": {
        "id": "ZzZqHaLIbAMC"
      },
      "source": [
        "#Seleccion multiple (switch)\n",
        "en paythom no existe la estructura de seleccion switch en su lugar se emplea el uso de la àlabra reservada:\n",
        "\n",
        "##elif<condicion>:\n",
        "por ejemplo en lenguaje C y java seria:"
      ]
    },
    {
      "cell_type": "code",
      "metadata": {
        "colab": {
          "base_uri": "https://localhost:8080/"
        },
        "id": "AfMQw_7-eggi",
        "outputId": "c97001fb-4397-4bb3-e4f3-45304cf94deb"
      },
      "source": [
        "NUM = int(input(\"dame un numero entre 1 y 3: \"))\n",
        "V = float(input(\"Dame un valor float:\"))\n",
        "VAL = 0\n",
        "if NUM == 1:\n",
        "    VAL = 100 * V\n",
        "elif NUM == 2:\n",
        "    VAL = 100 ** V\n",
        "elif NUM == 3 :\n",
        "    VAL =100/V\n",
        "else:\n",
        "    VAL = 0\n",
        "\n",
        "print(VAL)"
      ],
      "execution_count": null,
      "outputs": [
        {
          "output_type": "stream",
          "name": "stdout",
          "text": [
            "dame un numero entre 1 y 3: 1\n",
            "Dame un valor float:1\n",
            "100.0\n"
          ]
        }
      ]
    },
    {
      "cell_type": "code",
      "metadata": {
        "colab": {
          "base_uri": "https://localhost:8080/"
        },
        "id": "JuCxBnSd2OCO",
        "outputId": "45062aad-7de4-4449-8107-d515fedb1f0c"
      },
      "source": [
        "#ejemplo 2.8\n",
        "\n",
        "CATE=int(input(\"Indroduce la categoria: \"))\n",
        "SUE=float(input(\"Indroduce el sueldo: \"))\n",
        "if CATE==1:\n",
        "    SUE=SUE*1.15;\n",
        "elif CATE==2:\n",
        "    SUE=SUE*1.10;\n",
        "elif CATE==3:\n",
        "    SUE=SUE*1.08;\n",
        "elif CATE==4:\n",
        "    SUE=SUE*1.07;\n",
        "print(f\"Categoria={CATE}, Sueldo={SUE}\")"
      ],
      "execution_count": null,
      "outputs": [
        {
          "output_type": "stream",
          "name": "stdout",
          "text": [
            "Indroduce la categoria: 1\n",
            "Indroduce el sueldo: 1\n",
            "Categoria=1, Sueldo=1.15\n"
          ]
        }
      ]
    },
    {
      "cell_type": "code",
      "metadata": {
        "colab": {
          "base_uri": "https://localhost:8080/"
        },
        "id": "XrNeEUxB6bkL",
        "outputId": "f9c39f20-71c1-4995-c3d8-43ac030dc069"
      },
      "source": [
        "#\n",
        "\n",
        "A=int(input(\"Dame un numero entero: \"))\n",
        "B=int(input(\"Dame un segundo numero entero diferente: \"))\n",
        "C=int(input(\"Dame un tercer numero entero diferente: \"))\n",
        "\n",
        "if A==B==C or A==B or A==C or B==C:\n",
        "    print(\"ALGUNOS NÚMEROS SON IGUALES, DEBEN SER 3 NUMEROS DIFERENTES\")\n",
        "if A>B:\n",
        "    if A>C: \n",
        "        if B>C:\n",
        "            print(\"ORDEN DE MAYOR A MENOR: \",A, B, C)\n",
        "        else:\n",
        "            print(\"ORDEN DE MAYOR A MENOR: \",A, C, B)\n",
        "    else: print(\"ORDEN DE MAYOR A MENOR: \",C, A, B)\n",
        "else:\n",
        "    if B>C: \n",
        "    \n",
        "        if A>C:\n",
        "            print(\"ORDEN DE MAYOR A MENOR: \",B, A, C)\n",
        "        else:\n",
        "            print(\"ORDEN DE MAYOR A MENOR: \",B, C, A)\n",
        "    else: print(\"ORDEN DE MAYOR A MENOR: \",C, B, A)\n",
        "\n",
        "print(\"FIN DEL PROGRAMA\")"
      ],
      "execution_count": null,
      "outputs": [
        {
          "output_type": "stream",
          "name": "stdout",
          "text": [
            "Dame un numero entero: 2\n",
            "Dame un segundo numero entero diferente: 45\n",
            "Dame un tercer numero entero diferente: 44\n",
            "ORDEN DE MAYOR A MENOR:  45 44 2\n",
            "FIN DEL PROGRAMA\n"
          ]
        }
      ]
    },
    {
      "cell_type": "code",
      "metadata": {
        "colab": {
          "base_uri": "https://localhost:8080/"
        },
        "id": "jIaRXF4TCaFM",
        "outputId": "b82608bb-308f-4187-bf50-f3a8f3fca03b"
      },
      "source": [
        "#Problema 2.14\n",
        "TipoEnf=int(input(\"introduce el tipo de enfermedad: \"))\n",
        "Edad=int(input(\"introduce la edad: \"))\n",
        "Dias=int(input(\"introduce el numero de dias: \"))\n",
        "Costo=0.0\n",
        "\n",
        "if TipoEnf==1:\n",
        "    Costo=Dias*25.0\n",
        "elif TipoEnf==2:\n",
        "    Costo=Dias*16.0\n",
        "elif TipoEnf==5:\n",
        "    Costo=Dias*20.0\n",
        "elif TipoEnf==4:\n",
        "    Costo=Dias*32.0\n",
        "\n",
        "if Edad>=14 and Edad <=22:\n",
        "    Costo=Costo *1.10\n",
        "  \n",
        "print(\"Costo total= $\", Costo)\n",
        "print(f\"Se pagó {Costo} pesos por {Dias} dia(s) de estancia\")"
      ],
      "execution_count": null,
      "outputs": [
        {
          "output_type": "stream",
          "name": "stdout",
          "text": [
            "introduce el tipo de enfermedad: 1\n",
            "introduce la edad: 11\n",
            "introduce el numero de dias: 1\n",
            "Costo total= $ 25.0\n",
            "Se pagó 25.0 pesos por 1 dia(s) de estancia\n"
          ]
        }
      ]
    },
    {
      "cell_type": "code",
      "metadata": {
        "colab": {
          "base_uri": "https://localhost:8080/"
        },
        "id": "_NjMes0kFca7",
        "outputId": "d733a5be-0468-4f19-a441-3b770c46f25c"
      },
      "source": [
        "#funcion range()\n",
        "x=range(0)\n",
        "print(x)\n",
        "\n",
        "for j in range(10):\n",
        "    print(f\"Hola {j} \")\n",
        "print(\"---\")\n",
        "for j in range(0,10,2):\n",
        "    print(f\"Hola {j} \")\n",
        "print(\"---\")\n",
        "for i in range(5):\n",
        "    print(\"+++++\")"
      ],
      "execution_count": null,
      "outputs": [
        {
          "output_type": "stream",
          "name": "stdout",
          "text": [
            "range(0, 0)\n",
            "Hola 0 \n",
            "Hola 1 \n",
            "Hola 2 \n",
            "Hola 3 \n",
            "Hola 4 \n",
            "Hola 5 \n",
            "Hola 6 \n",
            "Hola 7 \n",
            "Hola 8 \n",
            "Hola 9 \n",
            "---\n",
            "Hola 0 \n",
            "Hola 2 \n",
            "Hola 4 \n",
            "Hola 6 \n",
            "Hola 8 \n",
            "---\n",
            "+++++\n",
            "+++++\n",
            "+++++\n",
            "+++++\n",
            "+++++\n"
          ]
        }
      ]
    },
    {
      "cell_type": "code",
      "metadata": {
        "colab": {
          "base_uri": "https://localhost:8080/"
        },
        "id": "Q-y1C3pEN-FI",
        "outputId": "48e3bbfd-1caa-4209-e868-d5a3492ce91b"
      },
      "source": [
        "#ejemplo 3.3\n",
        "CUECER=0\n",
        "NUM=0\n",
        "N=int(input(\"Un valor numerico mayor que 1: \"))\n",
        "for I in range(1, N+1, 1):\n",
        "    N=int(input(\"Un valor numerico mayor que 1: \"))\n",
        "    if N==0:\n",
        "        CUECER +=1\n",
        "\n",
        "print(\"CUECER=\", CUECER)"
      ],
      "execution_count": null,
      "outputs": [
        {
          "output_type": "stream",
          "name": "stdout",
          "text": [
            "Un valor numerico mayor que 1 4\n",
            "Un valor numerico mayor que 1 0\n",
            "Un valor numerico mayor que 1 0\n",
            "Un valor numerico mayor que 1 1\n",
            "Un valor numerico mayor que 1 1\n",
            "CUECER= 2\n"
          ]
        }
      ]
    },
    {
      "cell_type": "code",
      "metadata": {
        "colab": {
          "base_uri": "https://localhost:8080/"
        },
        "id": "YQ_46W6wRcxB",
        "outputId": "dd8131f2-ce62-4ffe-a688-242d09ccd4cb"
      },
      "source": [
        "for i in range(1, 11):\n",
        " print(f\"7 * {i} = \", 7*i)\n"
      ],
      "execution_count": null,
      "outputs": [
        {
          "output_type": "stream",
          "name": "stdout",
          "text": [
            "7 * 1 =  7\n",
            "7 * 2 =  14\n",
            "7 * 3 =  21\n",
            "7 * 4 =  28\n",
            "7 * 5 =  35\n",
            "7 * 6 =  42\n",
            "7 * 7 =  49\n",
            "7 * 8 =  56\n",
            "7 * 9 =  63\n",
            "7 * 10 =  70\n"
          ]
        }
      ]
    },
    {
      "cell_type": "code",
      "metadata": {
        "colab": {
          "base_uri": "https://localhost:8080/"
        },
        "id": "Al6974PURrU_",
        "outputId": "c5b70b06-06c0-47d4-ba0a-68a7fd1bbdde"
      },
      "source": [
        "n=7\n",
        "for i in range(1,11,1):\n",
        "    x=n*i\n",
        "    print(f\"{n} x {i} = {x}\")"
      ],
      "execution_count": null,
      "outputs": [
        {
          "output_type": "stream",
          "name": "stdout",
          "text": [
            "7 x 1 = 7\n",
            "7 x 2 = 14\n",
            "7 x 3 = 21\n",
            "7 x 4 = 28\n",
            "7 x 5 = 35\n",
            "7 x 6 = 42\n",
            "7 x 7 = 49\n",
            "7 x 8 = 56\n",
            "7 x 9 = 63\n",
            "7 x 10 = 70\n"
          ]
        }
      ]
    },
    {
      "cell_type": "markdown",
      "metadata": {
        "id": "C8Dnlqk7R-Ib"
      },
      "source": [
        "dame un numero entre 1-5: 2\n",
        "dame un mumero entre 2-10: 6\n",
        "\n"
      ]
    },
    {
      "cell_type": "code",
      "metadata": {
        "colab": {
          "base_uri": "https://localhost:8080/"
        },
        "id": "tCTVMzdQUdoB",
        "outputId": "6c0c8d80-1610-4afe-a5f9-3f485f635d72"
      },
      "source": [
        "N1=int(input('ingresa un valor entre 1 y 5: '))\n",
        "\n",
        "if N1>0 and N1<6:\n",
        "    N2=int(input(f'ingresa un valor entre el {N1} y 10: '))\n",
        "    if N2>= N1 and N2<11:\n",
        "\n",
        "        for i in range( N1, N2+1):\n",
        "            for j in range(1,11):\n",
        "                print(f\"{i} x {j} = \", i*j)\n",
        "            print(\"___________\")\n",
        "    else:\n",
        "        print('Valor ingresado fuera del rango')\n",
        "else:\n",
        "    print('Valor ingresado fuera del rango')"
      ],
      "execution_count": null,
      "outputs": [
        {
          "output_type": "stream",
          "name": "stdout",
          "text": [
            "ingresa un valor entre 1 y 5: 5\n",
            "ingresa un valor entre el 5 y 10: 7\n",
            "5 x 1 =  5\n",
            "5 x 2 =  10\n",
            "5 x 3 =  15\n",
            "5 x 4 =  20\n",
            "5 x 5 =  25\n",
            "5 x 6 =  30\n",
            "5 x 7 =  35\n",
            "5 x 8 =  40\n",
            "5 x 9 =  45\n",
            "5 x 10 =  50\n",
            "___________\n",
            "6 x 1 =  6\n",
            "6 x 2 =  12\n",
            "6 x 3 =  18\n",
            "6 x 4 =  24\n",
            "6 x 5 =  30\n",
            "6 x 6 =  36\n",
            "6 x 7 =  42\n",
            "6 x 8 =  48\n",
            "6 x 9 =  54\n",
            "6 x 10 =  60\n",
            "___________\n",
            "7 x 1 =  7\n",
            "7 x 2 =  14\n",
            "7 x 3 =  21\n",
            "7 x 4 =  28\n",
            "7 x 5 =  35\n",
            "7 x 6 =  42\n",
            "7 x 7 =  49\n",
            "7 x 8 =  56\n",
            "7 x 9 =  63\n",
            "7 x 10 =  70\n",
            "___________\n"
          ]
        }
      ]
    },
    {
      "cell_type": "code",
      "metadata": {
        "colab": {
          "base_uri": "https://localhost:8080/"
        },
        "id": "pWzryHWCVzkm",
        "outputId": "e99ec0b0-e4c8-4d63-b71f-7e846cfef456"
      },
      "source": [
        "#generadores de listas\n",
        "numeros= [0,0,0,0,0]\n",
        "print(numeros)\n",
        "numeros=[0 for x in range(5)]\n",
        "print(numeros)\n",
        "#empleando variable de control x para valor inicial\n",
        "numeros=[x for x in range(5)]\n",
        "print(numeros)\n",
        "#[10,20,30,40,50,60,70,80,90,100]\n",
        "numeros = [ x for x in range(10,101,10) ]\n",
        "print(numeros)"
      ],
      "execution_count": null,
      "outputs": [
        {
          "output_type": "stream",
          "name": "stdout",
          "text": [
            "[0, 0, 0, 0, 0]\n",
            "[0, 0, 0, 0, 0]\n",
            "[0, 1, 2, 3, 4]\n",
            "[10, 20, 30, 40, 50, 60, 70, 80, 90, 100]\n"
          ]
        }
      ]
    },
    {
      "cell_type": "code",
      "metadata": {
        "colab": {
          "base_uri": "https://localhost:8080/"
        },
        "id": "1F4DlbijYhNE",
        "outputId": "f204b337-c578-4b91-8221-e5611cc73685"
      },
      "source": [
        "#calcular promedio de edades\n",
        "23\n",
        "2\n",
        "suma=0\n",
        "edades=[0 for x in range(5)]\n",
        "for x in range(5):\n",
        "    edades[x]=int(input(\"Dame una edad: \"))\n",
        "    suma=suma+edades[x]\n",
        "print(edades)\n",
        "print(\"promedio: \", suma/5)"
      ],
      "execution_count": null,
      "outputs": [
        {
          "output_type": "stream",
          "name": "stdout",
          "text": [
            "Dame una edad: 11\n",
            "Dame una edad: 8\n",
            "Dame una edad: 66\n",
            "Dame una edad: 46\n",
            "Dame una edad: 13\n",
            "[11, 8, 66, 46, 13]\n",
            "promedio:  28.8\n"
          ]
        }
      ]
    },
    {
      "cell_type": "code",
      "metadata": {
        "colab": {
          "base_uri": "https://localhost:8080/"
        },
        "id": "fVy7urU9cXtH",
        "outputId": "db243ed0-8fae-4c01-8446-adf2ebc54663"
      },
      "source": [
        "import random\n",
        "print(random.random())\n",
        "print(random.uniform(5,11))\n",
        "val = round(random.uniform(5,11) , 2)\n",
        "print(val)\n",
        "\n",
        "valores = [round(random.uniform(5,11),2) for x in range(20)]\n",
        "print(valores)\n"
      ],
      "execution_count": null,
      "outputs": [
        {
          "output_type": "stream",
          "name": "stdout",
          "text": [
            "0.9046820843052483\n",
            "7.299692111568845\n",
            "5.04\n",
            "[9.85, 5.09, 8.15, 10.51, 10.19, 7.38, 10.38, 8.95, 5.02, 6.49, 6.26, 8.64, 7.56, 5.73, 7.61, 5.26, 10.95, 7.04, 6.65, 5.26]\n"
          ]
        }
      ]
    },
    {
      "cell_type": "markdown",
      "metadata": {
        "id": "FaUd88Tr7mjA"
      },
      "source": [
        "#Estructura de control de repeticion Haz\n",
        "###Una estructura  de control haz mientras nos permite ejecutar repetidamente mientras una codicion se siga cumpliendo\n",
        "\n",
        "While<condicion>:\n",
        "    <bloque de sentencias a ejecutar repetidamente>\n",
        "<siguiente secuencia posterior a while>"
      ]
    },
    {
      "cell_type": "code",
      "metadata": {
        "id": "KRVnzHITdfQV",
        "colab": {
          "base_uri": "https://localhost:8080/"
        },
        "outputId": "a25d6162-07bc-4d4a-969b-fab81a5a448b"
      },
      "source": [
        "valor=int(input(\"Introduce un numero entero positivo \"))\n",
        "contador=0\n",
        "if valor >0:\n",
        "    while valor >1.0:\n",
        "        valor=valor /2\n",
        "        print( round(valor, 2) )\n",
        "        contador +=1\n",
        "else:\n",
        "    print(\"E  l numero es negativo, intenta de nuevo\")\n",
        "print(\"Total de interacciones=\", contador)"
      ],
      "execution_count": null,
      "outputs": [
        {
          "output_type": "stream",
          "name": "stdout",
          "text": [
            "Introduce un numero entero positivo 6\n",
            "3.0\n",
            "1.5\n",
            "0.75\n",
            "Total de interacciones= 3\n"
          ]
        }
      ]
    },
    {
      "cell_type": "code",
      "metadata": {
        "colab": {
          "base_uri": "https://localhost:8080/"
        },
        "id": "LMIRZxHz9DxF",
        "outputId": "eea5af55-d673-4d3a-eee1-7ff781b27766"
      },
      "source": [
        "valor=int(input(\"Dame un valor entero: \"))\n",
        "\n",
        "while valor!= 0:\n",
        "    print(valor)\n",
        "    valor=int(input(\"Dame un valor entero: \" ))\n",
        "print(\"Fin delprograma\")\n"
      ],
      "execution_count": null,
      "outputs": [
        {
          "output_type": "stream",
          "name": "stdout",
          "text": [
            "Dame un valor entero: 0\n",
            "Fin delprograma\n"
          ]
        }
      ]
    },
    {
      "cell_type": "code",
      "metadata": {
        "colab": {
          "base_uri": "https://localhost:8080/"
        },
        "id": "YPa1h3o1A75g",
        "outputId": "3e60fce1-5e32-4321-b11a-f61a414501a7"
      },
      "source": [
        "n=int(input(\"Ingrese un nùmero entero positivo: \"))\n",
        "\n",
        "if n >0:\n",
        "  print(\"Es correcto\")\n",
        "\n",
        "  for i in range (1, 11):\n",
        "    print(n, \"x\", i, \"es\", n*i)\n",
        "\n",
        "else:\n",
        "  print(\"El numeroingresado es incorrecto\")"
      ],
      "execution_count": null,
      "outputs": [
        {
          "output_type": "stream",
          "name": "stdout",
          "text": [
            "Ingrese un nùmero entero positivo: 18\n",
            "Es correcto\n",
            "18 x 1 es 18\n",
            "18 x 2 es 36\n",
            "18 x 3 es 54\n",
            "18 x 4 es 72\n",
            "18 x 5 es 90\n",
            "18 x 6 es 108\n",
            "18 x 7 es 126\n",
            "18 x 8 es 144\n",
            "18 x 9 es 162\n",
            "18 x 10 es 180\n"
          ]
        }
      ]
    },
    {
      "cell_type": "code",
      "metadata": {
        "colab": {
          "base_uri": "https://localhost:8080/"
        },
        "id": "whB7Bm9WCQ5T",
        "outputId": "564a73f5-3cd1-4ef4-ce8b-641c95e17665"
      },
      "source": [
        "comprobar= True\n",
        "\n",
        "while comprobar== True:\n",
        "\n",
        "  n=int(input(\"Ingrese un nùmero entero positivo: \"))\n",
        "\n",
        "  if n >0:\n",
        "    i=1 \n",
        "    while i< 11:\n",
        "      print(n,\"x\", i, \"igual\", n*i)\n",
        "      i+=1\n",
        "      comprobar=False\n",
        "\n",
        "  else:\n",
        "    print(\"El numeroingresado es incorrecto\")"
      ],
      "execution_count": null,
      "outputs": [
        {
          "output_type": "stream",
          "name": "stdout",
          "text": [
            "Ingrese un nùmero entero positivo: 5\n",
            "5 x 1 igual 5\n",
            "5 x 2 igual 10\n",
            "5 x 3 igual 15\n",
            "5 x 4 igual 20\n",
            "5 x 5 igual 25\n",
            "5 x 6 igual 30\n",
            "5 x 7 igual 35\n",
            "5 x 8 igual 40\n",
            "5 x 9 igual 45\n",
            "5 x 10 igual 50\n"
          ]
        }
      ]
    },
    {
      "cell_type": "code",
      "metadata": {
        "colab": {
          "base_uri": "https://localhost:8080/"
        },
        "id": "4FlpfQFiLl7O",
        "outputId": "e81bbfa2-91cc-4cdb-dc07-60a3f1a248ae"
      },
      "source": [
        "comprobar= True\n",
        "while comprobar ==True:\n",
        "\n",
        "  n=int(input(\"Ingrese un numero entero positivo: \"))\n",
        "\n",
        "  if n>0:\n",
        "    comprobar=False\n",
        "    resultado=0\n",
        "    for i in range(1, n+1):\n",
        "      resultado += (1/i)\n",
        "\n",
        "      print(\"El resultado de la serie es: \", resultado)\n",
        "  else:  \n",
        "   print(\"El numero ingresado es incorrecto, intente de nuevo\")"
      ],
      "execution_count": null,
      "outputs": [
        {
          "output_type": "stream",
          "name": "stdout",
          "text": [
            "Ingrese un numero entero positivo: -5\n",
            "El numero ingresado es incorrecto, intente de nuevo\n",
            "Ingrese un numero entero positivo: 4\n",
            "El resultado de la serie es:  1.0\n",
            "El resultado de la serie es:  1.5\n",
            "El resultado de la serie es:  1.8333333333333333\n",
            "El resultado de la serie es:  2.083333333333333\n"
          ]
        }
      ]
    },
    {
      "cell_type": "markdown",
      "metadata": {
        "id": "hlM85wxNR7RC"
      },
      "source": [
        "Do while"
      ]
    },
    {
      "cell_type": "code",
      "metadata": {
        "colab": {
          "base_uri": "https://localhost:8080/",
          "height": 132
        },
        "id": "is9EiIQyR-WD",
        "outputId": "d1ab541c-8955-4d71-88ee-257fc49bc8b6"
      },
      "source": [
        "    \n",
        "int main()  \n",
        "{    \n",
        "    int valor=0;\n",
        "    printf(\" ___do while___\");\n",
        "    do{\n",
        "       printf(%i \\n, valor);\n",
        "       printf(\"Dame un valor entero: \");\n",
        "       scanf(%i,&valor);\n",
        "    }while(valor=0);\n",
        "\n",
        "    printf(\"Fin del programa\\n\");\n",
        "    return 0;\n",
        "}"
      ],
      "execution_count": 8,
      "outputs": [
        {
          "output_type": "error",
          "ename": "SyntaxError",
          "evalue": "ignored",
          "traceback": [
            "\u001b[0;36m  File \u001b[0;32m\"<ipython-input-8-c5140bfc975f>\"\u001b[0;36m, line \u001b[0;32m2\u001b[0m\n\u001b[0;31m    int main()\u001b[0m\n\u001b[0m           ^\u001b[0m\n\u001b[0;31mSyntaxError\u001b[0m\u001b[0;31m:\u001b[0m invalid syntax\n"
          ]
        }
      ]
    },
    {
      "cell_type": "markdown",
      "metadata": {
        "id": "RsdTR4YjVLCd"
      },
      "source": [
        "Una funcion es una unidad de codigo reutilizable, ademas de ser un mecanismo para oprganizar codigo la gran ventaja de emplear funciones es simplicar la programacion \n",
        "###Estructura\n",
        "una funcion puede tomar cualquier cantidad de parametro de entrada (de cualquier tipo) y retornar unicamente un solo valor.\n",
        "Un parametro de entrada es un avlor que recibe la funcion para realizar sus operaciones.\n",
        "\n",
        "Con una funcion se pueden hacer dos cosas:\n",
        "1. definirla\n",
        "1. invocarla (ejecutarla)\n",
        "\n",
        "La gran ventaja de tener una funcion declarada es que la podemos reutilizar cuando se desee\n"
      ]
    },
    {
      "cell_type": "code",
      "metadata": {
        "id": "PbNE6gLtW8_X"
      },
      "source": [
        "def sumar(op1, op2):\n",
        "  res= op1 + op2\n",
        "  return res\n",
        "    \n"
      ],
      "execution_count": 12,
      "outputs": []
    },
    {
      "cell_type": "code",
      "metadata": {
        "colab": {
          "base_uri": "https://localhost:8080/"
        },
        "id": "m3_Kom5FYBo_",
        "outputId": "cbfa2b14-4adb-4ad8-95c9-8159a0fef26f"
      },
      "source": [
        "res= sumar(2, 5)\n",
        "print(res)"
      ],
      "execution_count": 13,
      "outputs": [
        {
          "output_type": "stream",
          "name": "stdout",
          "text": [
            "7\n"
          ]
        }
      ]
    },
    {
      "cell_type": "code",
      "metadata": {
        "colab": {
          "base_uri": "https://localhost:8080/"
        },
        "id": "l0km458IalNL",
        "outputId": "79e612cf-a03f-44e8-adf7-6fd23e3c5f01"
      },
      "source": [
        "def imprime_cuadro():\n",
        "  print(\"******\")\n",
        "  print(\"******\")\n",
        "  print(\"******\")\n",
        "  print(\"******\")\n",
        "\n",
        "imprime_cuadro()"
      ],
      "execution_count": 19,
      "outputs": [
        {
          "output_type": "stream",
          "name": "stdout",
          "text": [
            "******\n",
            "******\n",
            "******\n",
            "******\n"
          ]
        }
      ]
    },
    {
      "cell_type": "markdown",
      "metadata": {
        "id": "BX-J_s6_bAXP"
      },
      "source": [
        "#Valor de retorno de una funcion\n",
        "Regla de oro \n",
        "\n",
        "Una funcion siempre retorna un solo valor. inclusive si ese valor es el vacio\n"
      ]
    },
    {
      "cell_type": "code",
      "metadata": {
        "colab": {
          "base_uri": "https://localhost:8080/"
        },
        "id": "lLc7PyGPbU63",
        "outputId": "52175040-1acb-4f12-a888-d4f90b952286"
      },
      "source": [
        "res=sumar(7,8)\n",
        "print(res)\n",
        "res= imprime_cuadro()\n",
        "print(res)"
      ],
      "execution_count": 20,
      "outputs": [
        {
          "output_type": "stream",
          "name": "stdout",
          "text": [
            "15\n",
            "******\n",
            "******\n",
            "******\n",
            "******\n",
            "None\n"
          ]
        }
      ]
    },
    {
      "cell_type": "markdown",
      "metadata": {
        "id": "LTLlSMwEdHBD"
      },
      "source": [
        "#La palabra reservada none de pythom\n",
        "Esta palabra reservada significa vacio, equibalente a la palabra reservada void de lenjuage c++ y java. Se usa para indicar ya sea un return o vacio o que se recibe como parametro un vacio.\n",
        "\n"
      ]
    },
    {
      "cell_type": "code",
      "metadata": {
        "id": "_yNZm6xyd5BC"
      },
      "source": [
        "def multiplicar(valor, veces):\n",
        "  c=valor * veces\n",
        "  return c"
      ],
      "execution_count": 21,
      "outputs": []
    },
    {
      "cell_type": "code",
      "metadata": {
        "colab": {
          "base_uri": "https://localhost:8080/"
        },
        "id": "2Czydn7NeInL",
        "outputId": "6eeeccce-b562-4ede-814f-7c6f9aef3743"
      },
      "source": [
        "res= multiplicar(5,5)\n",
        "print(res)"
      ],
      "execution_count": 22,
      "outputs": [
        {
          "output_type": "stream",
          "name": "stdout",
          "text": [
            "25\n"
          ]
        }
      ]
    },
    {
      "cell_type": "code",
      "metadata": {
        "id": "9jG-3o97eszC"
      },
      "source": [
        "def multiplicar(valor, veces):\n",
        "  if valor== None:\n",
        "    c=-1\n",
        "  else:\n",
        "    c=valor * veces\n",
        "  return c"
      ],
      "execution_count": 23,
      "outputs": []
    },
    {
      "cell_type": "code",
      "metadata": {
        "colab": {
          "base_uri": "https://localhost:8080/"
        },
        "id": "kMB43OLPfAmw",
        "outputId": "aaf54a6f-4c1e-4105-9a1a-cf712ec2e137"
      },
      "source": [
        "res= multiplicar(None,5)\n",
        "print(res)"
      ],
      "execution_count": 25,
      "outputs": [
        {
          "output_type": "stream",
          "name": "stdout",
          "text": [
            "-1\n"
          ]
        }
      ]
    },
    {
      "cell_type": "markdown",
      "metadata": {
        "id": "dvP2EF7QfhGV"
      },
      "source": [
        "#Parametros y argumentos\n",
        "Son conceptos relacionados y su diferencia esta centrada en el momento que se emplea en una funcion, es decir, en la funcion sumar de arriba cuando se declara se le llama parametro y cuando se invoca se le llama argumento."
      ]
    },
    {
      "cell_type": "markdown",
      "metadata": {
        "id": "lB7wtH1XfSGt"
      },
      "source": [
        "#Argumentos posicionales\n",
        "En pythom es posible determinar a que parametros estan dirigidos los argumentos segun su posicion."
      ]
    },
    {
      "cell_type": "code",
      "metadata": {
        "id": "WXnsGlA8fUFz"
      },
      "source": [
        "def dividir(op1,op2):\n",
        "  c=op1/op2\n",
        "  return c"
      ],
      "execution_count": 27,
      "outputs": []
    },
    {
      "cell_type": "code",
      "metadata": {
        "colab": {
          "base_uri": "https://localhost:8080/"
        },
        "id": "cLYMEPBBg2yL",
        "outputId": "c8770e24-3179-4637-d6da-1b1cd8d4061b"
      },
      "source": [
        "num1=25\n",
        "num2=5\n",
        "res=dividir(num1,num2)\n",
        "print(res)\n",
        "res=dividir(num2,num1)\n",
        "print(res)"
      ],
      "execution_count": 29,
      "outputs": [
        {
          "output_type": "stream",
          "name": "stdout",
          "text": [
            "5.0\n",
            "0.2\n"
          ]
        }
      ]
    },
    {
      "cell_type": "markdown",
      "metadata": {
        "id": "E28dAxyphU7Y"
      },
      "source": [
        "#Argumentos con palabras clave (keywords)\n",
        "Es la posibilidad de indicarle a la funcion en tiempo de ejecucion a que parametro va dirigido un argumento de entrada.\n",
        "\n",
        "Solo en pythom\n"
      ]
    },
    {
      "cell_type": "code",
      "metadata": {
        "colab": {
          "base_uri": "https://localhost:8080/"
        },
        "id": "wUVTC8QHhqm1",
        "outputId": "4dc585b2-e823-4dad-d6e6-9ab335c96718"
      },
      "source": [
        "res=dividir(op2=num2,op1=num1)\n",
        "print(res)"
      ],
      "execution_count": 30,
      "outputs": [
        {
          "output_type": "stream",
          "name": "stdout",
          "text": [
            "5.0\n"
          ]
        }
      ]
    },
    {
      "cell_type": "code",
      "metadata": {
        "id": "N5ksWAZZiW3A"
      },
      "source": [
        "def letra_G(caracter):\n",
        "  print(f\" {caracter}{caracter}{caracter}{caracter} \")\n",
        "  print(f\" {caracter} \")\n",
        "  print(f\" {caracter} {caracter}{caracter} \")\n",
        "  print(f\" {caracter}  {caracter} \")\n",
        "  print(f\" {caracter}{caracter}{caracter}{caracter} \")"
      ],
      "execution_count": 47,
      "outputs": []
    },
    {
      "cell_type": "code",
      "metadata": {
        "colab": {
          "base_uri": "https://localhost:8080/"
        },
        "id": "G3UOdv3iiteA",
        "outputId": "20659a3a-f952-411f-eef7-bc61386d4c05"
      },
      "source": [
        "letra_G('G')"
      ],
      "execution_count": 48,
      "outputs": [
        {
          "output_type": "stream",
          "name": "stdout",
          "text": [
            " GGGG \n",
            " G \n",
            " G GG \n",
            " G  G \n",
            " GGGG \n"
          ]
        }
      ]
    }
  ]
}