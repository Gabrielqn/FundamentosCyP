{
  "nbformat": 4,
  "nbformat_minor": 0,
  "metadata": {
    "colab": {
      "name": "fundamentosCyP.ipynb",
      "provenance": [],
      "collapsed_sections": [],
      "authorship_tag": "ABX9TyPjNeZ/LecSez72cGYIChj1",
      "include_colab_link": true
    },
    "kernelspec": {
      "name": "python3",
      "display_name": "Python 3"
    },
    "language_info": {
      "name": "python"
    }
  },
  "cells": [
    {
      "cell_type": "markdown",
      "metadata": {
        "id": "view-in-github",
        "colab_type": "text"
      },
      "source": [
        "<a href=\"https://colab.research.google.com/github/Gabrielqn/FundamentosCyP/blob/main/fundamentosCyP.ipynb\" target=\"_parent\"><img src=\"https://colab.research.google.com/assets/colab-badge.svg\" alt=\"Open In Colab\"/></a>"
      ]
    },
    {
      "cell_type": "code",
      "metadata": {
        "id": "lF_MU4BuVeJN"
      },
      "source": [
        "nombre = \"x\" # Tipo de dato String\n",
        "carrera = \"Ing. en computacion\"\n",
        "frase = \"\"\"frase con triple comilla\"\"\"\n",
        "print(nombre) \n",
        "print(carrera) \n",
        "print(frase) \n",
        "\n",
        "print(type (nombre))\n",
        "paterno = str(\"Z\")\n",
        "print( paterno)"
      ],
      "execution_count": null,
      "outputs": []
    },
    {
      "cell_type": "markdown",
      "metadata": {
        "id": "SEFmmEmGXThu"
      },
      "source": [
        "# Tipos de datos en Python\n",
        "- str - cadna de caracteres\n",
        "- int - numeros enteros\n",
        "- float - numeros con notacion de punto flotante\n",
        "- complex - numeros complejos\n",
        "- bool - tipo de dato boleano (verdadero o falso)\n",
        "- byte - 8 bits\n",
        "\n",
        "### Tipos de datos estructurados (compuestos)\n",
        "- list - listas\n",
        "- dict - dicccionarios\n",
        "- set y frozenset - conjuntos\n",
        "- tuple - listas no notables\n",
        "\n",
        "##Una calse (class) es un tipo de dato compueso\n",
        "\n"
      ]
    },
    {
      "cell_type": "code",
      "metadata": {
        "id": "_IYRGE1Ws7zi"
      },
      "source": [
        "carrera= \"Ingeniería en computación\"\n",
        "print(carrera [-25])\n",
        "\n",
        "\n",
        "for letra in carrera:\n",
        "  print( \",ing,\")"
      ],
      "execution_count": null,
      "outputs": []
    },
    {
      "cell_type": "code",
      "metadata": {
        "colab": {
          "base_uri": "https://localhost:8080/"
        },
        "id": "fmiahftvv_I9",
        "outputId": "06a04e0b-4e6f-4761-e9f8-280da9276ade"
      },
      "source": [
        "carrera= \"ingeniería en computación\"\n",
        "print(carrera[0:10:1])\n",
        "print(carrera[-11: :1])\n",
        "#Incremento\n",
        "print(carrera[-1:-12:-1])\n",
        "print(carrera[10:5:1])"
      ],
      "execution_count": null,
      "outputs": [
        {
          "output_type": "stream",
          "name": "stdout",
          "text": [
            "ingeniería\n",
            "computación\n",
            "nóicatupmoc\n",
            "\n"
          ]
        }
      ]
    },
    {
      "cell_type": "markdown",
      "metadata": {
        "id": "ykJIZdtX0_DL"
      },
      "source": [
        "String y sus metodos"
      ]
    },
    {
      "cell_type": "code",
      "metadata": {
        "colab": {
          "base_uri": "https://localhost:8080/"
        },
        "id": "TJWWLeUa1Dik",
        "outputId": "ae27133e-2aa3-4452-837c-4ff7b484d7f6"
      },
      "source": [
        "frutas= \"limon, fresa, manzana, aguacate\"\n",
        "nombre= \"josé\"\n",
        "print(frutas)\n",
        "#Funciones\n",
        "dir(frutas)\n",
        "\n",
        "print(nombre.capitalize())\n",
        "print(frutas.replace('a','4').replace('e','3').upper())\n",
        "\n"
      ],
      "execution_count": 69,
      "outputs": [
        {
          "output_type": "stream",
          "name": "stdout",
          "text": [
            "limon, fresa, manzana, aguacate\n",
            "José\n",
            "LIMON, FR3S4, M4NZ4N4, 4GU4C4T3\n"
          ]
        }
      ]
    },
    {
      "cell_type": "markdown",
      "metadata": {
        "id": "CqvW8UC-92g0"
      },
      "source": [
        "String y caracteres de escap\n",
        "- \\\"\n",
        "- \\u - salto de linea\n",
        "- \\t - tabulador espacios a la izquierda\n",
        "- \\uxxxx - caracteres unicode\n"
      ]
    }
  ]
}